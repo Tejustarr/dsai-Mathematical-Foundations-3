{
 "cells": [
  {
   "cell_type": "markdown",
   "metadata": {},
   "source": [
    "# Linear Regression solved by Gradient Descent"
   ]
  },
  {
   "cell_type": "code",
   "metadata": {},
   "source": [
    "import numpy as np\nX=np.array([[1,1],[1,2],[1,3]],float)\ny=np.array([1,2,2.5])\n\nw=np.zeros(2)\nalpha=0.1\nlosses=[]\nfor _ in range(100):\n    grad= X.T@(X@w - y)\n    w-=alpha*grad\n    losses.append(((X@w - y)**2).mean())\n\nprint('w=',w)\nimport matplotlib.pyplot as plt\nplt.plot(losses); plt.yscale('log'); plt.show()"
   ],
   "outputs": []
  }
 ],
 "metadata": {
  "kernelspec": {
   "name": "python3",
   "display_name": "Python 3"
  },
  "language_info": {
   "name": "python"
  }
 },
 "nbformat": 4,
 "nbformat_minor": 5
}