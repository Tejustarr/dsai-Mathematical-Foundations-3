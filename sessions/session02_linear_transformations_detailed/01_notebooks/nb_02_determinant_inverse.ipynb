{
 "cells": [
  {
   "cell_type": "markdown",
   "metadata": {},
   "source": [
    "# Determinant and Inverse"
   ]
  },
  {
   "cell_type": "code",
   "metadata": {},
   "source": [
    "A = np.array([[2,1],[5,3]])\nprint('det(A)=', np.linalg.det(A))\nprint('inv(A)=\\n', np.linalg.inv(A))"
   ],
   "outputs": []
  },
  {
   "cell_type": "markdown",
   "metadata": {},
   "source": [
    "### Properties\n- det(AB)=det(A)det(B)\n- det is product of eigenvalues"
   ]
  },
  {
   "cell_type": "code",
   "metadata": {},
   "source": [
    "B = np.array([[1,2],[3,4]])\nprint(np.linalg.det(A@B), np.linalg.det(A)*np.linalg.det(B))"
   ],
   "outputs": []
  }
 ],
 "metadata": {
  "kernelspec": {
   "name": "python3",
   "display_name": "Python 3"
  },
  "language_info": {
   "name": "python"
  }
 },
 "nbformat": 4,
 "nbformat_minor": 5
}