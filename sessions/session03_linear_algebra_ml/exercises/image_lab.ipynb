# image_lab.ipynb

Apply smoothing and edge detection using matrix operations; implement convolution by matrix multiplication.
