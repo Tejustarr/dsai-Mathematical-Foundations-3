{
 "cells": [
  {
   "cell_type": "markdown",
   "metadata": {},
   "source": [
    "# Coding Problems — Session 5\nImplement numeric and symbolic derivative helpers and gradient checkers."
   ]
  },
  {
   "cell_type": "markdown",
   "metadata": {},
   "source": [
    "**Problem 1**: Implement central_difference(f, x, i, h) that computes partial derivative wrt i-th coordinate of vector x."
   ]
  },
  {
   "cell_type": "code",
   "metadata": {},
   "source": [
    "import numpy as np\n\ndef central_difference(f, x, i, h=1e-6):\n    x = np.array(x, dtype=float)\n    e = np.zeros_like(x); e[i]=h\n    return (f(*(x+e)) - f(*(x-e))) / (2*h)\n\n# test\nf=lambda a,b: a**2 * np.sin(b)\nprint(central_difference(f, [0.7,0.3], 0))"
   ],
   "outputs": []
  },
  {
   "cell_type": "markdown",
   "metadata": {},
   "source": [
    "**Problem 2**: Implement gradient_check(f, x, analytic_grad) using central differences and return L2 norm error."
   ]
  },
  {
   "cell_type": "code",
   "metadata": {},
   "source": [
    "def gradient_check(f, x, analytic_grad, h=1e-6):\n    x = np.array(x, dtype=float)\n    num = np.zeros_like(x)\n    for i in range(len(x)):\n        num[i] = central_difference(f, x, i, h)\n    return np.linalg.norm(num - analytic_grad)\n\n# quick test\nanalytic = np.array([2*0.7*np.sin(0.3), 0.7**2*np.cos(0.3)])\nprint('error=', gradient_check(lambda a,b: a**2 * np.sin(b), [0.7,0.3], analytic))"
   ],
   "outputs": []
  },
  {
   "cell_type": "markdown",
   "metadata": {},
   "source": [
    "**Problem 3**: Implement hessian_numeric(f, x) returning n x n Hessian using central differences."
   ]
  },
  {
   "cell_type": "code",
   "metadata": {},
   "source": [
    "def hessian_numeric(f, x, h=1e-4):\n    x = np.array(x, dtype=float)\n    n = len(x)\n    H = np.zeros((n,n))\n    for i in range(n):\n        for j in range(n):\n            ei = np.zeros(n); ej=np.zeros(n)\n            ei[i]=h; ej[j]=h\n            H[i,j] = (f(*(x+ei+ej)) - f(*(x+ei-ej)) - f(*(x-ei+ej)) + f(*(x-ei-ej))) / (4*h*h)\n    return H\n\n# simple test\nf = lambda a,b: a**2 * b + np.sin(a*b)\nprint(hessian_numeric(f, [0.5,0.2]))"
   ],
   "outputs": []
  }
 ],
 "metadata": {
  "kernelspec": {
   "name": "python3",
   "display_name": "Python 3"
  },
  "language_info": {
   "name": "python"
  }
 },
 "nbformat": 4,
 "nbformat_minor": 5
}