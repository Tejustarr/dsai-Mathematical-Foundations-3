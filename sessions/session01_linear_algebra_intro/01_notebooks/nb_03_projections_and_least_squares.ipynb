{
 "cells": [
  {
   "cell_type": "markdown",
   "metadata": {},
   "source": [
    "# nb_03_projections_and_least_squares\n",
    "\n",
    "Projection onto a subspace, projection matrix, and least squares (normal equations)."
   ]
  },
  {
   "cell_type": "markdown",
   "metadata": {},
   "source": [
    "## Projection matrix\n",
    "For full-column-rank A (m x n), the projection matrix onto col(A) is:\n",
    "\n",
    "\\(P = A(A^T A)^{-1} A^T\\)\n",
    "\n",
    "Check properties: symmetric (P = P^T) and idempotent (P^2 = P)."
   ]
  },
  {
   "cell_type": "code",
   "execution_count": 1,
   "metadata": {},
   "outputs": [
    {
     "name": "stdout",
     "output_type": "stream",
     "text": [
      "P=\n",
      " [[ 0.83333333  0.33333333 -0.16666667]\n",
      " [ 0.33333333  0.33333333  0.33333333]\n",
      " [-0.16666667  0.33333333  0.83333333]]\n",
      "P - P^T norm = 0.0\n",
      "P^2 - P norm = 2.6910028968576024e-16\n"
     ]
    }
   ],
   "source": [
    "import numpy as np\n",
    "A = np.array([[1,0],[1,1],[1,2]], dtype=float)\n",
    "P = A.dot(np.linalg.inv(A.T.dot(A))).dot(A.T)\n",
    "print('P=\\n', P)\n",
    "# symmetric?\n",
    "print('P - P^T norm =', np.linalg.norm(P - P.T))\n",
    "# idempotent?\n",
    "print('P^2 - P norm =', np.linalg.norm(P.dot(P) - P))"
   ]
  },
  {
   "cell_type": "markdown",
   "metadata": {},
   "source": [
    "## Least squares solution\n",
    "Given A x ≈ b with more equations than unknowns, the normal equations give x̂ = (A^T A)^{-1} A^T b."
   ]
  },
  {
   "cell_type": "code",
   "execution_count": 2,
   "metadata": {},
   "outputs": [
    {
     "name": "stdout",
     "output_type": "stream",
     "text": [
      "x_hat = [1.08333333 0.75      ]\n",
      "residual norm = 0.2041241452319315\n"
     ]
    }
   ],
   "source": [
    "b = np.array([1.0, 2.0, 2.5])\n",
    "x_hat = np.linalg.inv(A.T.dot(A)).dot(A.T).dot(b)\n",
    "print('x_hat =', x_hat)\n",
    "print('residual norm =', np.linalg.norm(A.dot(x_hat)-b))"
   ]
  },
  {
   "cell_type": "markdown",
   "metadata": {},
   "source": [
    "### Numerical caution\n",
    "Computing \\((A^T A)^{-1}\\) can be unstable if A has collinear columns. Use `np.linalg.lstsq` or QR for stability."
   ]
  },
  {
   "cell_type": "code",
   "execution_count": 3,
   "metadata": {},
   "outputs": [
    {
     "name": "stdout",
     "output_type": "stream",
     "text": [
      "x_hat2 = [1.08333333 0.75      ]\n",
      "residuals = [0.04166667]\n"
     ]
    }
   ],
   "source": [
    "# using numpy lstsq\n",
    "x_hat2, res, rank, s = np.linalg.lstsq(A,b, rcond=None)\n",
    "print('x_hat2 =', x_hat2)\n",
    "print('residuals =', res)"
   ]
  }
 ],
 "metadata": {
  "kernelspec": {
   "display_name": "Python 3",
   "name": "python3"
  },
  "language_info": {
   "codemirror_mode": {
    "name": "ipython",
    "version": 3
   },
   "file_extension": ".py",
   "mimetype": "text/x-python",
   "name": "python",
   "nbconvert_exporter": "python",
   "pygments_lexer": "ipython3",
   "version": "3.11.9"
  }
 },
 "nbformat": 4,
 "nbformat_minor": 5
}
