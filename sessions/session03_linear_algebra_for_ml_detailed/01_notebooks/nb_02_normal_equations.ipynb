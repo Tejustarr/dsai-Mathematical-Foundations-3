{
 "cells": [
  {
   "cell_type": "markdown",
   "metadata": {},
   "source": [
    "# Normal Equations — Derivation"
   ]
  },
  {
   "cell_type": "code",
   "metadata": {},
   "source": [
    "import sympy as sp\nw1,w2=sp.symbols('w1 w2')\nX=sp.Matrix([[1,1],[1,2],[1,3]])\ny=sp.Matrix([2,2.5,3.5])\nw=sp.Matrix([w1,w2])\nL=(X*w-y).dot(X*w-y)\nprint(sp.expand(L))\nprint(sp.solve(sp.derive_by_array(L,(w1,w2)),(w1,w2)))"
   ],
   "outputs": []
  }
 ],
 "metadata": {
  "kernelspec": {
   "name": "python3",
   "display_name": "Python 3"
  },
  "language_info": {
   "name": "python"
  }
 },
 "nbformat": 4,
 "nbformat_minor": 5
}