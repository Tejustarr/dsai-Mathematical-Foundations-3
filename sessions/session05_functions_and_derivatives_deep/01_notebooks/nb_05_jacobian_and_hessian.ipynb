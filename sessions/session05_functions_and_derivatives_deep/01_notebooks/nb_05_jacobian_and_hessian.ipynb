{
 "cells": [
  {
   "cell_type": "markdown",
   "metadata": {},
   "source": [
    "# Jacobian and Hessian — definitions, computation, and examples"
   ]
  },
  {
   "cell_type": "code",
   "metadata": {},
   "source": [
    "import sympy as sp\nx,y = sp.symbols('x y')\nf = x**3 * y + sp.sin(x*y)\nJ = sp.Matrix([f]).jacobian([x,y])\nH = sp.hessian(f, (x,y))\nJ, H"
   ],
   "outputs": []
  },
  {
   "cell_type": "markdown",
   "metadata": {},
   "source": [
    "### Use Hessian to classify critical points for f(x,y)"
   ]
  },
  {
   "cell_type": "code",
   "metadata": {},
   "source": [
    "# find stationary points (solving gradient=0)\ndfx = sp.diff(f,x); dfy = sp.diff(f,y)\ncrit = sp.solve([dfx, dfy],[x,y], dict=True)\ncrit"
   ],
   "outputs": []
  }
 ],
 "metadata": {
  "kernelspec": {
   "name": "python3",
   "display_name": "Python 3"
  },
  "language_info": {
   "name": "python"
  }
 },
 "nbformat": 4,
 "nbformat_minor": 5
}