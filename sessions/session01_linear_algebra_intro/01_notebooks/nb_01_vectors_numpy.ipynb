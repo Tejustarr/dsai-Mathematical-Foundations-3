{
 "cells": [
  {
   "cell_type": "markdown",
   "metadata": {},
   "source": [
    "# nb_01_vectors_numpy\n",
    "\n",
    "This notebook introduces vectors in numpy and demonstrates vector operations, inner product, norms, and geometric interpretation."
   ]
  },
  {
   "cell_type": "code",
   "execution_count": 1,
   "metadata": {},
   "outputs": [
    {
     "name": "stdout",
     "output_type": "stream",
     "text": [
      "v = [3. 4.]\n",
      "w = [1. 2.]\n"
     ]
    }
   ],
   "source": [
    "import numpy as np\n",
    "\n",
    "# define vectors\n",
    "v = np.array([3.0, 4.0])\n",
    "w = np.array([1.0, 2.0])\n",
    "print('v =', v)\n",
    "print('w =', w)"
   ]
  },
  {
   "cell_type": "code",
   "execution_count": 2,
   "metadata": {},
   "outputs": [
    {
     "name": "stdout",
     "output_type": "stream",
     "text": [
      "v·w = 11.0\n",
      "||v|| = 5.0\n",
      "cos(theta)= 0.9838699100999074\n"
     ]
    }
   ],
   "source": [
    "# dot product\n",
    "print('v·w =', v.dot(w))\n",
    "# norm\n",
    "print('||v|| =', np.linalg.norm(v))\n",
    "# angle via cosine\n",
    "cos_theta = v.dot(w)/(np.linalg.norm(v)*np.linalg.norm(w))\n",
    "print('cos(theta)=', cos_theta)"
   ]
  },
  {
   "cell_type": "markdown",
   "metadata": {},
   "source": [
    "### Broadcasting and linear combinations\n",
    "Numpy makes linear combinations straightforward."
   ]
  },
  {
   "cell_type": "code",
   "execution_count": 3,
   "metadata": {},
   "outputs": [
    {
     "data": {
      "text/plain": [
       "array([5., 6.])"
      ]
     },
     "execution_count": 3,
     "metadata": {},
     "output_type": "execute_result"
    }
   ],
   "source": [
    "a, b = 2.0, -1.0\n",
    "lincomb = a*v + b*w\n",
    "lincomb"
   ]
  },
  {
   "cell_type": "markdown",
   "metadata": {},
   "source": [
    "### Exercises (in notebook)\n",
    "1. Compute projection of v onto w.\n",
    "2. Verify Pythagorean relation for orthogonal vectors.\n",
    "3. Implement function that checks if two vectors are orthogonal within tolerance."
   ]
  },
  {
   "cell_type": "code",
   "execution_count": 4,
   "metadata": {},
   "outputs": [
    {
     "name": "stdout",
     "output_type": "stream",
     "text": [
      "proj_v_on_w = [2.2 4.4]\n"
     ]
    }
   ],
   "source": [
    "# 1. projection of v onto w\n",
    "def proj(u, v):\n",
    "    # project u onto v\n",
    "    return (v.dot(u)/v.dot(v)) * v\n",
    "\n",
    "print('proj_v_on_w =', proj(v,w))"
   ]
  },
  {
   "cell_type": "code",
   "execution_count": 5,
   "metadata": {},
   "outputs": [
    {
     "name": "stdout",
     "output_type": "stream",
     "text": [
      "is v orthogonal to w? False\n"
     ]
    }
   ],
   "source": [
    "# 3. orthogonality check\n",
    "def is_orthogonal(u,v,eps=1e-8):\n",
    "    return abs(u.dot(v)) < eps\n",
    "\n",
    "print('is v orthogonal to w?', is_orthogonal(v,w))"
   ]
  }
 ],
 "metadata": {
  "kernelspec": {
   "display_name": "Python 3",
   "name": "python3"
  },
  "language_info": {
   "codemirror_mode": {
    "name": "ipython",
    "version": 3
   },
   "file_extension": ".py",
   "mimetype": "text/x-python",
   "name": "python",
   "nbconvert_exporter": "python",
   "pygments_lexer": "ipython3",
   "version": "3.11.9"
  }
 },
 "nbformat": 4,
 "nbformat_minor": 5
}
