{
 "cells": [
  {
   "cell_type": "markdown",
   "metadata": {},
   "source": [
    "# Coding Solutions"
   ]
  },
  {
   "cell_type": "code",
   "execution_count": 1,
   "metadata": {},
   "outputs": [
    {
     "name": "stdout",
     "output_type": "stream",
     "text": [
      "proj solution example: [3. 0.]\n"
     ]
    }
   ],
   "source": [
    "import numpy as np\n",
    "\n",
    "def projection(u, v):\n",
    "    v = v.astype(float)\n",
    "    return (v.dot(u) / v.dot(v)) * v\n",
    "\n",
    "print('proj solution example:', projection(np.array([3.,4.]), np.array([1.,0.])))"
   ]
  },
  {
   "cell_type": "code",
   "execution_count": 2,
   "metadata": {},
   "outputs": [
    {
     "name": "stdout",
     "output_type": "stream",
     "text": [
      "nullspace basis: [[ 0.94491118 -0.18898224]\n",
      " [-0.30854944 -0.78681825]\n",
      " [-0.10927077  0.58753958]]\n"
     ]
    }
   ],
   "source": [
    "def nullspace(A, tol=1e-12):\n",
    "    u,s,vt = np.linalg.svd(A)\n",
    "    rank = np.linalg.matrix_rank(A)\n",
    "    ns = vt.T[:, rank:]\n",
    "    return ns\n",
    "\n",
    "A = np.array([[1,2,3],[2,4,6]])\n",
    "print('nullspace basis:', nullspace(A))"
   ]
  }
 ],
 "metadata": {
  "kernelspec": {
   "display_name": "Python 3",
   "name": "python3"
  },
  "language_info": {
   "codemirror_mode": {
    "name": "ipython",
    "version": 3
   },
   "file_extension": ".py",
   "mimetype": "text/x-python",
   "name": "python",
   "nbconvert_exporter": "python",
   "pygments_lexer": "ipython3",
   "version": "3.11.9"
  }
 },
 "nbformat": 4,
 "nbformat_minor": 5
}
