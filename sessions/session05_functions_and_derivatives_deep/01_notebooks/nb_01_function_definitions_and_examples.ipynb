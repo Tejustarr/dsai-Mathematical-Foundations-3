{
 "cells": [
  {
   "cell_type": "markdown",
   "metadata": {},
   "source": [
    "# Function Definitions & Representation\nThis notebook explores explicit, implicit, and parametric function representations with examples and plots."
   ]
  },
  {
   "cell_type": "markdown",
   "metadata": {},
   "source": [
    "## Explicit function: y = f(x) example\nLet's plot polynomials, exponentials, and trig functions."
   ]
  },
  {
   "cell_type": "code",
   "metadata": {},
   "source": [
    "import numpy as np\nimport matplotlib.pyplot as plt\nx = np.linspace(-3,3,501)\nplt.figure(figsize=(8,4))\nplt.plot(x, x**3, label='x^3')\nplt.plot(x, np.exp(x), label='exp(x)')\nplt.plot(x, np.sin(x), label='sin(x)')\nplt.legend(); plt.grid(True); plt.show()"
   ],
   "outputs": []
  },
  {
   "cell_type": "markdown",
   "metadata": {},
   "source": [
    "## Implicit function example: circle x^2 + y^2 = 1\nWe can plot the implicit curve by solving for y: y = ±sqrt(1-x^2)."
   ]
  },
  {
   "cell_type": "code",
   "metadata": {},
   "source": [
    "x = np.linspace(-1,1,201)\nys = np.sqrt(np.maximum(0,1-x**2))\nplt.plot(x, ys, 'b')\nplt.plot(x, -ys, 'b')\nplt.gca().set_aspect('equal'); plt.title('Unit circle'); plt.show()"
   ],
   "outputs": []
  },
  {
   "cell_type": "markdown",
   "metadata": {},
   "source": [
    "## Parametric curve example: Lissajous\nx = sin(a t), y = sin(b t + delta)"
   ]
  },
  {
   "cell_type": "code",
   "metadata": {},
   "source": [
    "t = np.linspace(0,2*np.pi,1000)\na,b,delta = 3,2,np.pi/2\nx = np.sin(a*t)\ny = np.sin(b*t+delta)\nplt.plot(x,y); plt.title('Lissajous'); plt.show()"
   ],
   "outputs": []
  }
 ],
 "metadata": {
  "kernelspec": {
   "name": "python3",
   "display_name": "Python 3"
  },
  "language_info": {
   "name": "python"
  }
 },
 "nbformat": 4,
 "nbformat_minor": 5
}