{
 "cells": [
  {
   "cell_type": "markdown",
   "metadata": {},
   "source": [
    "# Integration basics — definite & indefinite integrals, numeric integration"
   ]
  },
  {
   "cell_type": "code",
   "metadata": {},
   "source": [
    "import sympy as sp\nx = sp.symbols('x')\nsp.integrate(sp.sin(x), (x,0,sp.pi))"
   ],
   "outputs": []
  },
  {
   "cell_type": "code",
   "metadata": {},
   "source": [
    "import numpy as np\nf = lambda t: t**2\nxs = np.linspace(0,1,101)\nprint('numeric integral ~', np.trapz(f(xs), xs))"
   ],
   "outputs": []
  },
  {
   "cell_type": "markdown",
   "metadata": {},
   "source": [
    "### Multivariate integral (conceptual) — change of variables and Jacobian determinant"
   ]
  }
 ],
 "metadata": {
  "kernelspec": {
   "name": "python3",
   "display_name": "Python 3"
  },
  "language_info": {
   "name": "python"
  }
 },
 "nbformat": 4,
 "nbformat_minor": 5
}