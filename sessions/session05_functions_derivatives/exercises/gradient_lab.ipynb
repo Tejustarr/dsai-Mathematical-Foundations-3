# gradient_lab.ipynb

Implement gradient checks and finite-difference approximations.
