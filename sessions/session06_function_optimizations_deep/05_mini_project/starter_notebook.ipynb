{
 "cells": [
  {
   "cell_type": "markdown",
   "metadata": {},
   "source": [
    "# Mini-Project Starter: GD vs SGD on Logistic Regression"
   ]
  },
  {
   "cell_type": "code",
   "metadata": {},
   "source": [
    "import numpy as np\nimport matplotlib.pyplot as plt\nfrom sklearn.datasets import make_classification\n\nX,y=make_classification(n_samples=300,n_features=2,n_classes=2,n_redundant=0,random_state=42)\nX=np.hstack([np.ones((X.shape[0],1)),X])\n\ndef sigmoid(z): return 1/(1+np.exp(-z))\n\ndef loss(w):\n    p=sigmoid(X@w)\n    return -np.mean(y*np.log(p+1e-12)+(1-y)*np.log(1-p+1e-12))\n\ndef grad(w):\n    p=sigmoid(X@w)\n    return X.T@(p-y)/len(y)\n\n# implement gd and sgd\n"
   ],
   "outputs": []
  },
  {
   "cell_type": "markdown",
   "metadata": {},
   "source": [
    "### TODO: Implement GD and SGD loops here and compare losses"
   ]
  },
  {
   "cell_type": "code",
   "metadata": {},
   "source": [
    "# Placeholder"
   ],
   "outputs": []
  }
 ],
 "metadata": {
  "kernelspec": {
   "name": "python3",
   "display_name": "Python 3"
  },
  "language_info": {
   "name": "python"
  }
 },
 "nbformat": 4,
 "nbformat_minor": 5
}