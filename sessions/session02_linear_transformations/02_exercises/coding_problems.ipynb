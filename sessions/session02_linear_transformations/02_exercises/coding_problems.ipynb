{
 "cells": [
  {
   "cell_type": "markdown",
   "metadata": {},
   "source": [
    "# Coding Problems — Session 2"
   ]
  },
  {
   "cell_type": "code",
   "execution_count": 1,
   "metadata": {},
   "outputs": [
    {
     "name": "stdout",
     "output_type": "stream",
     "text": [
      "True\n"
     ]
    }
   ],
   "source": [
    "import numpy as np\n",
    "\n",
    "def matrix_inverse(A):\n",
    "    return np.linalg.inv(A)\n",
    "\n",
    "def is_orthogonal(Q, tol=1e-8):\n",
    "    return np.allclose(Q.T@Q, np.eye(Q.shape[0]), atol=tol)\n",
    "\n",
    "print(is_orthogonal(np.array([[0,-1],[1,0]])))"
   ]
  },
  {
   "cell_type": "code",
   "execution_count": 2,
   "metadata": {},
   "outputs": [
    {
     "name": "stdout",
     "output_type": "stream",
     "text": [
      "(np.float64(3.6180339887498953), array([0.52573111, 0.85065081]))\n"
     ]
    }
   ],
   "source": [
    "def power_method(A, max_iter=1000):\n",
    "    n=A.shape[0]\n",
    "    b=np.random.rand(n)\n",
    "    for _ in range(max_iter):\n",
    "        b=A@b\n",
    "        b/=np.linalg.norm(b)\n",
    "    val=(b@A@b)/(b@b)\n",
    "    return val,b\n",
    "\n",
    "A=np.array([[2,1],[1,3]],float)\n",
    "print(power_method(A))"
   ]
  },
  {
   "cell_type": "code",
   "execution_count": null,
   "id": "447b514c",
   "metadata": {},
   "outputs": [],
   "source": []
  }
 ],
 "metadata": {
  "kernelspec": {
   "display_name": "Python 3",
   "name": "python3"
  },
  "language_info": {
   "codemirror_mode": {
    "name": "ipython",
    "version": 3
   },
   "file_extension": ".py",
   "mimetype": "text/x-python",
   "name": "python",
   "nbconvert_exporter": "python",
   "pygments_lexer": "ipython3",
   "version": "3.11.9"
  }
 },
 "nbformat": 4,
 "nbformat_minor": 5
}
