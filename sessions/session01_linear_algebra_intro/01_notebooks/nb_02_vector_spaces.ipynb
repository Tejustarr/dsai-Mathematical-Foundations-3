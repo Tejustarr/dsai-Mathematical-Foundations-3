{
 "cells": [
  {
   "cell_type": "markdown",
   "metadata": {},
   "source": [
    "# nb_02_vector_spaces\n",
    "\n",
    "Span, basis, dimension, and linear independence with examples."
   ]
  },
  {
   "cell_type": "markdown",
   "metadata": {},
   "source": [
    "## Linear independence test using rank\n",
    "A set of vectors is independent iff the matrix with those vectors as columns has full column rank."
   ]
  },
  {
   "cell_type": "code",
   "execution_count": 1,
   "metadata": {},
   "outputs": [
    {
     "name": "stdout",
     "output_type": "stream",
     "text": [
      "A =\n",
      " [[1. 2. 3.]\n",
      " [0. 1. 4.]\n",
      " [0. 0. 1.]]\n",
      "rank(A)= 3\n"
     ]
    }
   ],
   "source": [
    "import numpy as np\n",
    "A = np.array([[1,2,3],[0,1,4],[0,0,1]], dtype=float)\n",
    "print('A =\\n', A)\n",
    "print('rank(A)=', np.linalg.matrix_rank(A))"
   ]
  },
  {
   "cell_type": "markdown",
   "metadata": {},
   "source": [
    "## Find a basis for the column space (using QR)"
   ]
  },
  {
   "cell_type": "code",
   "execution_count": 2,
   "metadata": {},
   "outputs": [
    {
     "name": "stdout",
     "output_type": "stream",
     "text": [
      "Q=\n",
      " [[ 1.  0.  0.]\n",
      " [-0.  1.  0.]\n",
      " [-0. -0.  1.]]\n",
      "R=\n",
      " [[1. 2. 3.]\n",
      " [0. 1. 4.]\n",
      " [0. 0. 1.]]\n"
     ]
    }
   ],
   "source": [
    "Q,R = np.linalg.qr(A)\n",
    "print('Q=\\n', Q)\n",
    "print('R=\\n', R)\n",
    "# columns of Q corresponding to independent columns form an orthonormal basis\n"
   ]
  },
  {
   "cell_type": "markdown",
   "metadata": {},
   "source": [
    "### Example: express vector in a given basis\n",
    "If B = [b1 b2] then coordinates c satisfy B c = v, so c = B^{-1} v (if B square/invertible)."
   ]
  },
  {
   "cell_type": "code",
   "execution_count": 3,
   "metadata": {},
   "outputs": [
    {
     "name": "stdout",
     "output_type": "stream",
     "text": [
      "coords in basis B = [1. 2.]\n",
      "reconstructed v = [3. 2.]\n"
     ]
    }
   ],
   "source": [
    "B = np.array([[1,1],[0,1]], dtype=float)\n",
    "v = np.array([3,2], dtype=float)\n",
    "coords = np.linalg.inv(B).dot(v)\n",
    "print('coords in basis B =', coords)\n",
    "print('reconstructed v =', B.dot(coords))"
   ]
  }
 ],
 "metadata": {
  "kernelspec": {
   "display_name": "Python 3",
   "name": "python3"
  },
  "language_info": {
   "codemirror_mode": {
    "name": "ipython",
    "version": 3
   },
   "file_extension": ".py",
   "mimetype": "text/x-python",
   "name": "python",
   "nbconvert_exporter": "python",
   "pygments_lexer": "ipython3",
   "version": "3.11.9"
  }
 },
 "nbformat": 4,
 "nbformat_minor": 5
}
