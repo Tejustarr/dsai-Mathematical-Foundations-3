{
 "cells": [
  {
   "cell_type": "markdown",
   "metadata": {},
   "source": [
    "# Coding Problems — Session 3"
   ]
  },
  {
   "cell_type": "code",
   "execution_count": 1,
   "metadata": {},
   "outputs": [
    {
     "name": "stdout",
     "output_type": "stream",
     "text": [
      "w= [1.16666667 0.75      ]  preds= [1.91666667 2.66666667 3.41666667]\n"
     ]
    }
   ],
   "source": [
    "# Implement linear regression fit and predict functions\n",
    "import numpy as np\n",
    "\n",
    "def fit(X,y):\n",
    "    return np.linalg.inv(X.T@X)@X.T@y\n",
    "\n",
    "def predict(X,w):\n",
    "    return X@w\n",
    "\n",
    "X=np.array([[1,1],[1,2],[1,3]])\n",
    "y=np.array([2,2.5,3.5])\n",
    "w=fit(X,y)\n",
    "print('w=',w,' preds=',predict(X,w))"
   ]
  },
  {
   "cell_type": "code",
   "execution_count": null,
   "id": "798a9b3c",
   "metadata": {},
   "outputs": [],
   "source": []
  }
 ],
 "metadata": {
  "kernelspec": {
   "display_name": "Python 3",
   "name": "python3"
  },
  "language_info": {
   "codemirror_mode": {
    "name": "ipython",
    "version": 3
   },
   "file_extension": ".py",
   "mimetype": "text/x-python",
   "name": "python",
   "nbconvert_exporter": "python",
   "pygments_lexer": "ipython3",
   "version": "3.11.9"
  }
 },
 "nbformat": 4,
 "nbformat_minor": 5
}
