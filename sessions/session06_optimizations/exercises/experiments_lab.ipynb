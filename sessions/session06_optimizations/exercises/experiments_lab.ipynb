# experiments_lab.ipynb

Compare GD/SGD/Adam on simple losses; visualize trajectories.
