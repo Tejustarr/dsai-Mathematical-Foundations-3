{
 "cells": [
  {
   "cell_type": "markdown",
   "id": "58d91fbd",
   "metadata": {},
   "source": [
    "# Principal Component Analysis"
   ]
  },
  {
   "cell_type": "code",
   "execution_count": 1,
   "id": "b83b662f",
   "metadata": {},
   "outputs": [
    {
     "name": "stdout",
     "output_type": "stream",
     "text": [
      "[[0.61655556 0.61544444]\n",
      " [0.61544444 0.71655556]]\n"
     ]
    }
   ],
   "source": [
    "import numpy as np\n",
    "X = np.array([[2.5,2.4],[0.5,0.7],[2.2,2.9],[1.9,2.2],[3.1,3.0],[2.3,2.7],[2,1.6],[1,1.1],[1.5,1.6],[1.1,0.9]])\n",
    "Xc = X - X.mean(0)\n",
    "Sigma = np.cov(Xc.T)\n",
    "print(Sigma)"
   ]
  },
  {
   "cell_type": "code",
   "execution_count": 2,
   "id": "a2270140",
   "metadata": {},
   "outputs": [
    {
     "name": "stdout",
     "output_type": "stream",
     "text": [
      "eigenvalues [1.28402771 0.0490834 ]\n",
      "eigenvectors [[-0.6778734  -0.73517866]\n",
      " [-0.73517866  0.6778734 ]]\n"
     ]
    }
   ],
   "source": [
    "import numpy as np\n",
    "from numpy.linalg import eig\n",
    "\n",
    "vals, vecs = eig(Sigma)\n",
    "idx = np.argsort(vals)[::-1]\n",
    "vals, vecs = vals[idx], vecs[:,idx]\n",
    "print('eigenvalues', vals)\n",
    "print('eigenvectors', vecs)"
   ]
  },
  {
   "cell_type": "markdown",
   "id": "66934eb2",
   "metadata": {},
   "source": [
    "### Project onto first principal component"
   ]
  },
  {
   "cell_type": "code",
   "execution_count": 3,
   "id": "e4ee0459",
   "metadata": {},
   "outputs": [
    {
     "name": "stdout",
     "output_type": "stream",
     "text": [
      "[-0.82797019  1.77758033 -0.99219749 -0.27421042 -1.67580142 -0.9129491\n",
      "  0.09910944  1.14457216  0.43804614  1.22382056]\n"
     ]
    }
   ],
   "source": [
    "Z = Xc @ vecs[:,0]\n",
    "print(Z)"
   ]
  },
  {
   "cell_type": "markdown",
   "id": "0fffab37",
   "metadata": {},
   "source": [
    "# Singular Value Decomposition"
   ]
  },
  {
   "cell_type": "code",
   "execution_count": 4,
   "id": "3b674fc2",
   "metadata": {},
   "outputs": [
    {
     "name": "stdout",
     "output_type": "stream",
     "text": [
      "singular values [3.3994484  0.66464321]\n",
      "U shape (10, 10) Vt shape (2, 2)\n"
     ]
    }
   ],
   "source": [
    "U,S,Vt = np.linalg.svd(Xc)\n",
    "print('singular values', S)\n",
    "print('U shape', U.shape, 'Vt shape', Vt.shape)"
   ]
  },
  {
   "cell_type": "code",
   "execution_count": null,
   "id": "63295b18",
   "metadata": {},
   "outputs": [],
   "source": []
  }
 ],
 "metadata": {
  "kernelspec": {
   "display_name": "Python 3",
   "name": "python3"
  },
  "language_info": {
   "codemirror_mode": {
    "name": "ipython",
    "version": 3
   },
   "file_extension": ".py",
   "mimetype": "text/x-python",
   "name": "python",
   "nbconvert_exporter": "python",
   "pygments_lexer": "ipython3",
   "version": "3.11.9"
  }
 },
 "nbformat": 4,
 "nbformat_minor": 5
}
