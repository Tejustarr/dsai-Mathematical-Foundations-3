# coding_lab.ipynb

Implement power method, QR algorithm (basic), and compare numpy.linalg.eig results.
