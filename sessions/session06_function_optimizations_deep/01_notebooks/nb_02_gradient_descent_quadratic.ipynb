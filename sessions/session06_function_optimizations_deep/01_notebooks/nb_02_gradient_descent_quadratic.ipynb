{
 "cells": [
  {
   "cell_type": "markdown",
   "metadata": {},
   "source": [
    "# Gradient Descent on Quadratic Functions"
   ]
  },
  {
   "cell_type": "code",
   "metadata": {},
   "source": [
    "import numpy as np\nQ=np.array([[3,0],[0,1]])\nb=np.array([1,2])\nf=lambda x:0.5*x@Q@x - b@x\ng=lambda x:Q@x - b\n\ndef gd(x0,alpha,iters=50):\n    x=x0.copy(); hist=[x]\n    for _ in range(iters):\n        x=x-alpha*g(x)\n        hist.append(x.copy())\n    return np.array(hist)\n\ntraj=gd(np.array([0.,0.]),0.1,30)\ntraj[:5]"
   ],
   "outputs": []
  },
  {
   "cell_type": "markdown",
   "metadata": {},
   "source": [
    "### Plot trajectory"
   ]
  },
  {
   "cell_type": "code",
   "metadata": {},
   "source": [
    "import matplotlib.pyplot as plt\nxs=traj[:,0]; ys=traj[:,1]\nplt.plot(xs,ys,'-o'); plt.title('GD trajectory'); plt.show()"
   ],
   "outputs": []
  }
 ],
 "metadata": {
  "kernelspec": {
   "name": "python3",
   "display_name": "Python 3"
  },
  "language_info": {
   "name": "python"
  }
 },
 "nbformat": 4,
 "nbformat_minor": 5
}