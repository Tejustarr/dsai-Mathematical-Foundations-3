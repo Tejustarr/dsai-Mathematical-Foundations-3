{
 "cells": [
  {
   "cell_type": "markdown",
   "id": "55983cb4",
   "metadata": {},
   "source": [
    "# Singular Value Decomposition"
   ]
  },
  {
   "cell_type": "code",
   "execution_count": null,
   "id": "611365cc",
   "metadata": {},
   "outputs": [],
   "source": [
    "U,S,Vt = np.linalg.svd(Xc)\n",
    "print('singular values', S)\n",
    "print('U shape', U.shape, 'Vt shape', Vt.shape)"
   ]
  }
 ],
 "metadata": {
  "kernelspec": {
   "display_name": "Python 3",
   "name": "python3"
  },
  "language_info": {
   "name": "python"
  }
 },
 "nbformat": 4,
 "nbformat_minor": 5
}