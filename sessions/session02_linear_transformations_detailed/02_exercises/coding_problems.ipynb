{
 "cells": [
  {
   "cell_type": "markdown",
   "metadata": {},
   "source": [
    "# Coding Problems — Session 2"
   ]
  },
  {
   "cell_type": "code",
   "metadata": {},
   "source": [
    "import numpy as np\n\ndef matrix_inverse(A):\n    return np.linalg.inv(A)\n\ndef is_orthogonal(Q, tol=1e-8):\n    return np.allclose(Q.T@Q, np.eye(Q.shape[0]), atol=tol)\n\nprint(is_orthogonal(np.array([[0,-1],[1,0]])))"
   ],
   "outputs": []
  },
  {
   "cell_type": "code",
   "metadata": {},
   "source": [
    "def power_method(A, max_iter=1000):\n    n=A.shape[0]\n    b=np.random.rand(n)\n    for _ in range(max_iter):\n        b=A@b\n        b/=np.linalg.norm(b)\n    val=(b@A@b)/(b@b)\n    return val,b\n\nA=np.array([[2,1],[1,3]],float)\nprint(power_method(A))"
   ],
   "outputs": []
  }
 ],
 "metadata": {
  "kernelspec": {
   "name": "python3",
   "display_name": "Python 3"
  },
  "language_info": {
   "name": "python"
  }
 },
 "nbformat": 4,
 "nbformat_minor": 5
}