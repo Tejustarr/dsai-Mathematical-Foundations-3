# coding_problems.ipynb

Implement projection, check orthogonality, compute rank and nullspace with numpy/scipy.
