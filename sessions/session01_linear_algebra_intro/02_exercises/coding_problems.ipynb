{
 "cells": [
  {
   "cell_type": "markdown",
   "metadata": {},
   "source": [
    "# Coding Problems — Session 1\n",
    "\n",
    "Implement the following functions in Python (use numpy)."
   ]
  },
  {
   "cell_type": "markdown",
   "metadata": {},
   "source": [
    "**Problem 1 — projection(u, v)**\n",
    "Return projection of vector u onto v (use formula)."
   ]
  },
  {
   "cell_type": "code",
   "execution_count": 1,
   "metadata": {},
   "outputs": [
    {
     "name": "stdout",
     "output_type": "stream",
     "text": [
      "[3. 0.]\n"
     ]
    }
   ],
   "source": [
    "# Implement projection here\n",
    "import numpy as np\n",
    "\n",
    "def projection(u, v):\n",
    "    \"\"\"Project u onto v. Both are 1-D numpy arrays.\"\"\"\n",
    "    v = v.astype(float)\n",
    "    return (v.dot(u) / v.dot(v)) * v\n",
    "\n",
    "# quick sanity\n",
    "print(projection(np.array([3.,4.]), np.array([1.,0.])))"
   ]
  },
  {
   "cell_type": "markdown",
   "metadata": {},
   "source": [
    "**Problem 2 — nullspace(A)**\n",
    "Return a basis (list of vectors) for the nullspace of matrix A (use SVD or rref approach)."
   ]
  },
  {
   "cell_type": "code",
   "execution_count": 2,
   "metadata": {},
   "outputs": [
    {
     "name": "stdout",
     "output_type": "stream",
     "text": [
      "nullspace basis (columns):\n",
      " [[ 0.94491118]\n",
      " [-0.30854944]\n",
      " [-0.10927077]]\n"
     ]
    }
   ],
   "source": [
    "def nullspace(A, tol=1e-12):\n",
    "    A = np.asarray(A, dtype=float)\n",
    "    u,s,vt = np.linalg.svd(A)\n",
    "    null_mask = (s <= tol)\n",
    "    # SVD returns s for min(m,n); compute nullspace via vt\n",
    "    # columns of V (rows of vt) corresponding to zero singular values\n",
    "    ns = vt.T[:, np.where(s <= tol)[0]] if s.size>0 else np.empty((A.shape[1],0))\n",
    "    # fallback: use rank to select\n",
    "    rank = np.linalg.matrix_rank(A)\n",
    "    if ns.size == 0:\n",
    "        # basis vectors are last (n-rank) columns of V^T.T\n",
    "        ns = vt.T[:, rank:]\n",
    "    return ns\n",
    "\n",
    "A = np.array([[1,2,3],[2,4,6]])\n",
    "print('nullspace basis (columns):\\n', nullspace(A))"
   ]
  }
 ],
 "metadata": {
  "kernelspec": {
   "display_name": "Python 3",
   "name": "python3"
  },
  "language_info": {
   "codemirror_mode": {
    "name": "ipython",
    "version": 3
   },
   "file_extension": ".py",
   "mimetype": "text/x-python",
   "name": "python",
   "nbconvert_exporter": "python",
   "pygments_lexer": "ipython3",
   "version": "3.11.9"
  }
 },
 "nbformat": 4,
 "nbformat_minor": 5
}
