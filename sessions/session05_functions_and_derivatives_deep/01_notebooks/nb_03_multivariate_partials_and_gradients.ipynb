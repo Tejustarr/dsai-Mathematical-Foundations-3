{
 "cells": [
  {
   "cell_type": "markdown",
   "metadata": {},
   "source": [
    "# Multivariate functions — partial derivatives and gradient"
   ]
  },
  {
   "cell_type": "code",
   "metadata": {},
   "source": [
    "import sympy as sp\nx,y = sp.symbols('x y')\nf = x**2 * sp.sin(y) + sp.exp(x*y)\n(sp.diff(f,x), sp.diff(f,y))"
   ],
   "outputs": []
  },
  {
   "cell_type": "markdown",
   "metadata": {},
   "source": [
    "## Gradient vector — symbolic and numeric"
   ]
  },
  {
   "cell_type": "code",
   "metadata": {},
   "source": [
    "grad_f = [sp.diff(f, v) for v in (x,y)]\ngrad_f"
   ],
   "outputs": []
  },
  {
   "cell_type": "code",
   "metadata": {},
   "source": [
    "import numpy as np\nf_num = lambda x,y: x**2*np.sin(y) + np.exp(x*y)\n# numeric gradient via small h\ndef numeric_grad(f, x0, h=1e-6):\n    x0 = np.asarray(x0, dtype=float)\n    grad = np.zeros_like(x0)\n    for i in range(len(x0)):\n        dx = np.zeros_like(x0); dx[i]=h\n        grad[i] = (f(*(x0+dx)) - f(*(x0-dx))) / (2*h)\n    return grad\n\nprint(numeric_grad(lambda a,b: f_num(a,b), np.array([0.5,0.3])))"
   ],
   "outputs": []
  }
 ],
 "metadata": {
  "kernelspec": {
   "name": "python3",
   "display_name": "Python 3"
  },
  "language_info": {
   "name": "python"
  }
 },
 "nbformat": 4,
 "nbformat_minor": 5
}