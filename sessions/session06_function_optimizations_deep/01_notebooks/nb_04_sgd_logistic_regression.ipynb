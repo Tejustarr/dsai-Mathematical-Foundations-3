{
 "cells": [
  {
   "cell_type": "markdown",
   "metadata": {},
   "source": [
    "# SGD for Logistic Regression"
   ]
  },
  {
   "cell_type": "code",
   "metadata": {},
   "source": [
    "import numpy as np\nfrom sklearn.datasets import make_classification\nX,y=make_classification(n_samples=200,n_features=2,n_classes=2,n_redundant=0,random_state=0)\nX=np.hstack([np.ones((X.shape[0],1)),X])\n\nw=np.zeros(X.shape[1])\nalpha=0.1\nlosses=[]\ndef sigmoid(z): return 1/(1+np.exp(-z))\nfor epoch in range(20):\n    for i in range(len(y)):\n        xi=X[i]; yi=y[i]\n        p=sigmoid(xi@w)\n        grad=xi*(p-yi)\n        w-=alpha*grad\n    # compute loss\n    p=sigmoid(X@w)\n    loss=-np.mean(y*np.log(p+1e-9)+(1-y)*np.log(1-p+1e-9))\n    losses.append(loss)\n\nprint('w=',w)\nimport matplotlib.pyplot as plt\nplt.plot(losses); plt.show()"
   ],
   "outputs": []
  }
 ],
 "metadata": {
  "kernelspec": {
   "name": "python3",
   "display_name": "Python 3"
  },
  "language_info": {
   "name": "python"
  }
 },
 "nbformat": 4,
 "nbformat_minor": 5
}