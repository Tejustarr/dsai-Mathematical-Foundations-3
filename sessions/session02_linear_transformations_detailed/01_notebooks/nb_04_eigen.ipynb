{
 "cells": [
  {
   "cell_type": "markdown",
   "metadata": {},
   "source": [
    "# Eigenvalues and Eigenvectors"
   ]
  },
  {
   "cell_type": "code",
   "metadata": {},
   "source": [
    "A = np.array([[2,0],[0,3]])\nvals, vecs = np.linalg.eig(A)\nprint('eigenvalues', vals)\nprint('eigenvectors=\\n', vecs)"
   ],
   "outputs": []
  },
  {
   "cell_type": "markdown",
   "metadata": {},
   "source": [
    "### Verify Av = λv"
   ]
  },
  {
   "cell_type": "code",
   "metadata": {},
   "source": [
    "for i in range(len(vals)):\n    print(A@vecs[:,i], vals[i]*vecs[:,i])"
   ],
   "outputs": []
  }
 ],
 "metadata": {
  "kernelspec": {
   "name": "python3",
   "display_name": "Python 3"
  },
  "language_info": {
   "name": "python"
  }
 },
 "nbformat": 4,
 "nbformat_minor": 5
}