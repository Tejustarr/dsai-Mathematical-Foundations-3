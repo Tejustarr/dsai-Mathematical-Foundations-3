{
 "cells": [
  {
   "cell_type": "markdown",
   "metadata": {},
   "source": [
    "# Principal Component Analysis"
   ]
  },
  {
   "cell_type": "code",
   "metadata": {},
   "source": [
    "import numpy as np\nfrom numpy.linalg import eig\n\nvals, vecs = eig(Sigma)\nidx = np.argsort(vals)[::-1]\nvals, vecs = vals[idx], vecs[:,idx]\nprint('eigenvalues', vals)\nprint('eigenvectors', vecs)"
   ],
   "outputs": []
  },
  {
   "cell_type": "markdown",
   "metadata": {},
   "source": [
    "### Project onto first principal component"
   ]
  },
  {
   "cell_type": "code",
   "metadata": {},
   "source": [
    "Z = Xc @ vecs[:,0]\nprint(Z)"
   ],
   "outputs": []
  }
 ],
 "metadata": {
  "kernelspec": {
   "name": "python3",
   "display_name": "Python 3"
  },
  "language_info": {
   "name": "python"
  }
 },
 "nbformat": 4,
 "nbformat_minor": 5
}