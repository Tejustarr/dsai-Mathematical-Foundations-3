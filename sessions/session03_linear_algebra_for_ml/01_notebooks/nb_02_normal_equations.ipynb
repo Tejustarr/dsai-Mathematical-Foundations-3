{
 "cells": [
  {
   "cell_type": "markdown",
   "metadata": {},
   "source": [
    "# Normal Equations — Derivation"
   ]
  },
  {
   "cell_type": "code",
   "execution_count": 2,
   "metadata": {},
   "outputs": [],
   "source": [
    "import sympy as sp\n"
   ]
  },
  {
   "cell_type": "code",
   "execution_count": 3,
   "id": "03903f1e",
   "metadata": {},
   "outputs": [
    {
     "name": "stdout",
     "output_type": "stream",
     "text": [
      "3*w1**2 + 12*w1*w2 - 16.0*w1 + 14*w2**2 - 35.0*w2 + 22.5\n",
      "{w1: 1.16666666666667, w2: 0.750000000000000}\n"
     ]
    }
   ],
   "source": [
    "w1,w2=sp.symbols('w1 w2')\n",
    "X=sp.Matrix([[1,1],[1,2],[1,3]])\n",
    "y=sp.Matrix([2,2.5,3.5])\n",
    "w=sp.Matrix([w1,w2])\n",
    "L=(X*w-y).dot(X*w-y)\n",
    "print(sp.expand(L))\n",
    "print(sp.solve(sp.derive_by_array(L,(w1,w2)),(w1,w2)))"
   ]
  }
 ],
 "metadata": {
  "kernelspec": {
   "display_name": "Python 3",
   "name": "python3"
  },
  "language_info": {
   "codemirror_mode": {
    "name": "ipython",
    "version": 3
   },
   "file_extension": ".py",
   "mimetype": "text/x-python",
   "name": "python",
   "nbconvert_exporter": "python",
   "pygments_lexer": "ipython3",
   "version": "3.11.9"
  }
 },
 "nbformat": 4,
 "nbformat_minor": 5
}
