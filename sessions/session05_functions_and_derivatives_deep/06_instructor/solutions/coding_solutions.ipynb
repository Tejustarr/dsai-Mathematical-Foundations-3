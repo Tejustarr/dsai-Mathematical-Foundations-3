{
 "cells": [
  {
   "cell_type": "markdown",
   "metadata": {},
   "source": [
    "# Coding Solutions — central difference, gradient check, hessian numeric (reference implementations)"
   ]
  },
  {
   "cell_type": "code",
   "metadata": {},
   "source": [
    "import numpy as np\n\ndef central_difference(f, x, i, h=1e-6):\n    x = np.array(x, dtype=float)\n    e = np.zeros_like(x); e[i]=h\n    return (f(*(x+e)) - f(*(x-e))) / (2*h)\n\ndef gradient_check(f, x, analytic_grad, h=1e-6):\n    x = np.array(x, dtype=float)\n    num = np.zeros_like(x)\n    for i in range(len(x)):\n        num[i] = central_difference(f, x, i, h)\n    return np.linalg.norm(num - analytic_grad)\n\ndef hessian_numeric(f, x, h=1e-4):\n    x = np.array(x, dtype=float)\n    n = len(x)\n    H = np.zeros((n,n))\n    for i in range(n):\n        for j in range(n):\n            ei = np.zeros(n); ej=np.zeros(n)\n            ei[i]=h; ej[j]=h\n            H[i,j] = (f(*(x+ei+ej)) - f(*(x+ei-ej)) - f(*(x-ei+ej)) + f(*(x-ei-ej))) / (4*h*h)\n    return H\n\nprint('reference impl ok')"
   ],
   "outputs": []
  }
 ],
 "metadata": {
  "kernelspec": {
   "name": "python3",
   "display_name": "Python 3"
  },
  "language_info": {
   "name": "python"
  }
 },
 "nbformat": 4,
 "nbformat_minor": 5
}