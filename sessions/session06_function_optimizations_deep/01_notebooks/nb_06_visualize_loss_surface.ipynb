{
 "cells": [
  {
   "cell_type": "markdown",
   "metadata": {},
   "source": [
    "# Visualizing Loss Surface and Optimization Path"
   ]
  },
  {
   "cell_type": "code",
   "metadata": {},
   "source": [
    "import numpy as np, matplotlib.pyplot as plt\n\nf=lambda x,y: x**2+2*y**2\nXv,Yv=np.meshgrid(np.linspace(-2,2,100),np.linspace(-2,2,100))\nZ=f(Xv,Yv)\nplt.contour(Xv,Yv,Z,levels=20)\n\n# simulate GD path\npt=np.array([1.5,1.5])\ntraj=[pt]\nalpha=0.2\nfor _ in range(15):\n    grad=np.array([2*pt[0],4*pt[1]])\n    pt=pt-alpha*grad\n    traj.append(pt.copy())\ntraj=np.array(traj)\nplt.plot(traj[:,0],traj[:,1],'ro-')\nplt.show()"
   ],
   "outputs": []
  }
 ],
 "metadata": {
  "kernelspec": {
   "name": "python3",
   "display_name": "Python 3"
  },
  "language_info": {
   "name": "python"
  }
 },
 "nbformat": 4,
 "nbformat_minor": 5
}