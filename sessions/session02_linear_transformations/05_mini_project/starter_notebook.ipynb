{
 "cells": [
  {
   "cell_type": "markdown",
   "metadata": {},
   "source": [
    "# Starter: Tiny PCA on 2D points"
   ]
  },
  {
   "cell_type": "code",
   "execution_count": 1,
   "metadata": {},
   "outputs": [
    {
     "name": "stdout",
     "output_type": "stream",
     "text": [
      "[10.55234318  0.94765682] [[ 0.90130324  0.43318873]\n",
      " [-0.43318873  0.90130324]]\n"
     ]
    }
   ],
   "source": [
    "import numpy as np\n",
    "X=np.array([[2,0],[0,2],[3,1],[4,0]])\n",
    "X_center=X-X.mean(0)\n",
    "C=X_center.T@X_center\n",
    "vals,vecs=np.linalg.eig(C)\n",
    "print(vals, vecs)"
   ]
  },
  {
   "cell_type": "code",
   "execution_count": null,
   "id": "076f3d15",
   "metadata": {},
   "outputs": [],
   "source": []
  }
 ],
 "metadata": {
  "kernelspec": {
   "display_name": "Python 3",
   "name": "python3"
  },
  "language_info": {
   "codemirror_mode": {
    "name": "ipython",
    "version": 3
   },
   "file_extension": ".py",
   "mimetype": "text/x-python",
   "name": "python",
   "nbconvert_exporter": "python",
   "pygments_lexer": "ipython3",
   "version": "3.11.9"
  }
 },
 "nbformat": 4,
 "nbformat_minor": 5
}
