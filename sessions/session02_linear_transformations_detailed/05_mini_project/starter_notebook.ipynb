{
 "cells": [
  {
   "cell_type": "markdown",
   "metadata": {},
   "source": [
    "# Starter: Tiny PCA on 2D points"
   ]
  },
  {
   "cell_type": "code",
   "metadata": {},
   "source": [
    "import numpy as np\nX=np.array([[2,0],[0,2],[3,1],[4,0]])\nX_center=X-X.mean(0)\nC=X_center.T@X_center\nvals,vecs=np.linalg.eig(C)\nprint(vals, vecs)"
   ],
   "outputs": []
  }
 ],
 "metadata": {
  "kernelspec": {
   "name": "python3",
   "display_name": "Python 3"
  },
  "language_info": {
   "name": "python"
  }
 },
 "nbformat": 4,
 "nbformat_minor": 5
}