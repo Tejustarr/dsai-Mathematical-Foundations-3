{
 "cells": [
  {
   "cell_type": "markdown",
   "metadata": {},
   "source": [
    "# starter_notebook: 2D Transformation Visualizer\n\nThis notebook is scaffolded. Fill the sections below."
   ]
  },
  {
   "cell_type": "markdown",
   "metadata": {},
   "source": [
    "## 1. Load points"
   ]
  },
  {
   "cell_type": "code",
   "metadata": {},
   "source": [
    "import numpy as np\npts = np.array([[0,0],[1,0],[0,1],[1,1]])\nprint(pts)"
   ],
   "outputs": []
  },
  {
   "cell_type": "markdown",
   "metadata": {},
   "source": [
    "## 2. Define rotation matrix R(theta) and apply"
   ]
  },
  {
   "cell_type": "code",
   "metadata": {},
   "source": [
    "import math\n\ndef R(theta):\n    return np.array([[math.cos(theta), -math.sin(theta)],[math.sin(theta), math.cos(theta)]])\n\nprint(R(math.pi/4).dot(np.array([1,0])))"
   ],
   "outputs": []
  },
  {
   "cell_type": "markdown",
   "metadata": {},
   "source": [
    "## 3. Visualize (use matplotlib) - fill this cell with plotting code."
   ]
  },
  {
   "cell_type": "code",
   "metadata": {},
   "source": [
    "# plotting scaffold\nimport matplotlib.pyplot as plt\npts = np.array([[0,0],[1,0],[1,1],[0,1],[0,0]])\nplt.plot(pts[:,0], pts[:,1], '-o')\nplt.gca().set_aspect('equal', adjustable='box')\nplt.show()"
   ],
   "outputs": []
  }
 ],
 "metadata": {
  "kernelspec": {
   "name": "python3",
   "display_name": "Python 3"
  },
  "language_info": {
   "name": "python"
  }
 },
 "nbformat": 4,
 "nbformat_minor": 5
}