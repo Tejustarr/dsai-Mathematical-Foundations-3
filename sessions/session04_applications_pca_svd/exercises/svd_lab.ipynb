# svd_lab.ipynb

Experiment with different ranks and visualize reconstruction errors.
