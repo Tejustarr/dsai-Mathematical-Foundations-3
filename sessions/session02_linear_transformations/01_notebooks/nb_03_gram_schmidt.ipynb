{
 "cells": [
  {
   "cell_type": "markdown",
   "metadata": {},
   "source": [
    "# Gram-Schmidt Process"
   ]
  },
  {
   "cell_type": "code",
   "execution_count": 1,
   "id": "a71eb453",
   "metadata": {},
   "outputs": [],
   "source": [
    "import numpy as np"
   ]
  },
  {
   "cell_type": "code",
   "execution_count": 2,
   "metadata": {},
   "outputs": [
    {
     "name": "stdout",
     "output_type": "stream",
     "text": [
      "[[ 0.70710678  0.40824829]\n",
      " [ 0.70710678 -0.40824829]\n",
      " [ 0.          0.81649658]]\n",
      "Q^TQ=\n",
      " [[1.00000000e+00 2.45142679e-17]\n",
      " [2.45142679e-17 1.00000000e+00]]\n"
     ]
    }
   ],
   "source": [
    "def gram_schmidt(V):\n",
    "    U=[]\n",
    "    for v in V.T:\n",
    "        u=v.copy().astype(float)\n",
    "        for q in U:\n",
    "            u-=q*(q@v)/(q@q)\n",
    "        U.append(u/np.linalg.norm(u))\n",
    "    return np.array(U).T\n",
    "\n",
    "V=np.array([[1,1],[1,0],[0,1]],float)\n",
    "Q=gram_schmidt(V)\n",
    "print(Q)\n",
    "print('Q^TQ=\\n', Q.T@Q)"
   ]
  },
  {
   "cell_type": "code",
   "execution_count": null,
   "id": "694022dc",
   "metadata": {},
   "outputs": [],
   "source": []
  }
 ],
 "metadata": {
  "kernelspec": {
   "display_name": "Python 3",
   "name": "python3"
  },
  "language_info": {
   "codemirror_mode": {
    "name": "ipython",
    "version": 3
   },
   "file_extension": ".py",
   "mimetype": "text/x-python",
   "name": "python",
   "nbconvert_exporter": "python",
   "pygments_lexer": "ipython3",
   "version": "3.11.9"
  }
 },
 "nbformat": 4,
 "nbformat_minor": 5
}
